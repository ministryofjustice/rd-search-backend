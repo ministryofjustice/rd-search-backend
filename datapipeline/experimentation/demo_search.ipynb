{
 "cells": [
  {
   "cell_type": "markdown",
   "id": "80065442-3490-4671-8a2c-c0cfca4e0d24",
   "metadata": {},
   "source": [
    "# Basic search pipelines"
   ]
  },
  {
   "cell_type": "code",
   "execution_count": null,
   "id": "55e62961-441c-4fef-9d67-39c9b49646dc",
   "metadata": {},
   "outputs": [],
   "source": [
    "import boto3\n",
    "import os\n",
    "import config\n",
    "os.chdir('/home/jovyan/rd-hr-smart-knowledge-management')\n",
    "from datapipeline.utils.read_data_functions import read_docs\n",
    "from datapipeline.utils.pipeline_functions import (\n",
    "    setup_bm25_pipeline,\n",
    "    run_semantic_indexing_pipeline,\n",
    "    setup_semantic_pipeline,\n",
    "    setup_hybrid_pipeline\n",
    ")\n",
    "from datapipeline.utils.search_functions import (\n",
    "    bm25_search,\n",
    "    semantic_search,\n",
    "    hybrid_search,\n",
    "    pretty_print_results\n",
    ")\n",
    "\n",
    "from api.src.lib import get_config\n",
    "from api.src.lib.services import SERVICES\n",
    "cfg = get_config()"
   ]
  },
  {
   "cell_type": "markdown",
   "id": "3f462914-f479-4931-9f1c-02e76b375683",
   "metadata": {},
   "source": [
    "## Read and preprocess data"
   ]
  },
  {
   "cell_type": "code",
   "execution_count": null,
   "id": "069670b2-818d-4bf0-ab92-7b1032ae7443",
   "metadata": {},
   "outputs": [],
   "source": [
    "# This isn't working at the moment - returns empty list\n",
    "\n",
    "# s3client = SERVICES[\"s3client\"]\n",
    "\n",
    "# # Get a list of documents to be read in\n",
    "# objs, _ = s3client.list()\n",
    "# file_list = [obj[\"Key\"] for obj in objs]\n",
    "# print(file_list)\n",
    "\n",
    "# dataset = read_docs(s3client, file_list)"
   ]
  },
  {
   "cell_type": "code",
   "execution_count": null,
   "id": "5a7a1b4d-403b-4768-91fe-34463996fec9",
   "metadata": {},
   "outputs": [],
   "source": [
    "# Get a list of documents to be read in\n",
    "s3client = boto3.client('s3')\n",
    "\n",
    "response = s3client.list_objects_v2(Bucket=cfg['S3_BUCKET'], Prefix=cfg['S3_KEY_PREFIX'])\n",
    "objs = response[\"Contents\"]\n",
    "\n",
    "file_list = [obj[\"Key\"] for obj in objs]\n",
    "\n",
    "file_list"
   ]
  },
  {
   "cell_type": "code",
   "execution_count": null,
   "id": "0b55c9b1-4c81-41f9-91e0-9bc3da5c41dd",
   "metadata": {},
   "outputs": [],
   "source": [
    "dataset = read_docs(s3client, file_list, docker=False, bucket_name=cfg['S3_BUCKET'])"
   ]
  },
  {
   "cell_type": "code",
   "execution_count": null,
   "id": "fcff8e12-28ca-4d64-b958-03f3098b3612",
   "metadata": {},
   "outputs": [],
   "source": [
    "dataset[31]"
   ]
  },
  {
   "cell_type": "code",
   "execution_count": null,
   "id": "4ae5e58d-8f57-40ee-bf24-338203b35070",
   "metadata": {},
   "outputs": [],
   "source": [
    "len(dataset)"
   ]
  },
  {
   "cell_type": "code",
   "execution_count": null,
   "id": "12585ae0-ab0a-48cc-8718-5092ffa872bf",
   "metadata": {},
   "outputs": [],
   "source": [
    "# Write out dataset for manual inspection\n",
    "\n",
    "import json\n",
    "with open(\"dataset.json\", \"w\") as outfile:\n",
    "    outfile.write(json.dumps(dataset, indent=4))"
   ]
  },
  {
   "cell_type": "code",
   "execution_count": null,
   "id": "867197ba-d72a-44ff-9f57-f61a6518fb32",
   "metadata": {},
   "outputs": [],
   "source": [
    "# search_query = \"maternity pay\"\n",
    "# search_query = \"When will my GDD allowance expire?\"\n",
    "search_query = \"Can I complete an assessment in probation?\""
   ]
  },
  {
   "cell_type": "markdown",
   "id": "10518951-bb63-4bcc-83c0-527931ee6333",
   "metadata": {},
   "source": [
    "## BM25 pipeline"
   ]
  },
  {
   "cell_type": "code",
   "execution_count": null,
   "id": "e5ec1598-2aca-40cd-83a1-4bcc319f7b98",
   "metadata": {},
   "outputs": [],
   "source": [
    "pipeline = setup_bm25_pipeline(dataset)"
   ]
  },
  {
   "cell_type": "code",
   "execution_count": null,
   "id": "5d6e3137-7bce-4637-a633-e3f36c881fa2",
   "metadata": {},
   "outputs": [],
   "source": [
    "results = bm25_search(search_query, pipeline, filters=None, top_k=3)"
   ]
  },
  {
   "cell_type": "code",
   "execution_count": null,
   "id": "59a4ffc0-57b8-480f-8c47-76a1db708121",
   "metadata": {},
   "outputs": [],
   "source": [
    "pretty_print_results(results[\"bm25_retriever\"]['documents'])"
   ]
  },
  {
   "cell_type": "code",
   "execution_count": null,
   "id": "4a823f4d-6404-4f6e-ab0f-d17db0e1e769",
   "metadata": {},
   "outputs": [],
   "source": [
    "# results[\"bm25_retriever\"]['documents']"
   ]
  },
  {
   "cell_type": "markdown",
   "id": "9a33376c-3330-4000-8111-b16575b311a7",
   "metadata": {},
   "source": [
    "## Semantic search pipeline"
   ]
  },
  {
   "cell_type": "code",
   "execution_count": null,
   "id": "977f08da-11a8-48b6-a913-9a50deca57b4",
   "metadata": {},
   "outputs": [],
   "source": [
    "# Run this if it's not been run already, to set up a locally stored vector database\n",
    "# run_semantic_indexing_pipeline(dataset)"
   ]
  },
  {
   "cell_type": "code",
   "execution_count": null,
   "id": "3990da49-09e3-46f0-bf62-62648755c23f",
   "metadata": {},
   "outputs": [],
   "source": [
    "semantic_pipeline = setup_semantic_pipeline(dataset)"
   ]
  },
  {
   "cell_type": "code",
   "execution_count": null,
   "id": "95686861-aa2f-4eeb-875e-9417fd6ef678",
   "metadata": {},
   "outputs": [],
   "source": [
    "results = semantic_search(search_query, semantic_pipeline, filters=None, top_k=3)"
   ]
  },
  {
   "cell_type": "code",
   "execution_count": null,
   "id": "36868294-0eb3-4c4c-a536-3df6f1839bc3",
   "metadata": {},
   "outputs": [],
   "source": [
    "pretty_print_results(results[\"ranker\"]['documents'])"
   ]
  },
  {
   "cell_type": "markdown",
   "id": "83b00506-0a91-455a-a5a9-18dc854b77f1",
   "metadata": {},
   "source": [
    "## Hybrid search pipeline"
   ]
  },
  {
   "cell_type": "code",
   "execution_count": null,
   "id": "f5bc078f-25f2-4e82-b30c-e4b26e5e20ab",
   "metadata": {},
   "outputs": [],
   "source": [
    "# Run this if it's not been run already, to set up a locally stored vector database\n",
    "# run_semantic_indexing_pipeline(dataset)"
   ]
  },
  {
   "cell_type": "code",
   "execution_count": null,
   "id": "9fde9681-dc1b-4b7e-b40d-d4d54187a9ef",
   "metadata": {},
   "outputs": [],
   "source": [
    "hybrid_pipeline = setup_hybrid_pipeline(dataset)"
   ]
  },
  {
   "cell_type": "code",
   "execution_count": null,
   "id": "d2e04e89-9b7c-4864-a8da-dae259ae727f",
   "metadata": {},
   "outputs": [],
   "source": [
    "results = hybrid_search(search_query, hybrid_pipeline, filters=None, top_k=5)"
   ]
  },
  {
   "cell_type": "code",
   "execution_count": null,
   "id": "018d24de-1af3-4c5a-a5e5-f72099671709",
   "metadata": {},
   "outputs": [],
   "source": [
    "pretty_print_results(results[\"ranker\"]['documents'])"
   ]
  },
  {
   "cell_type": "code",
   "execution_count": null,
   "id": "89692c84-0a93-48b8-af68-f6f41df8ca82",
   "metadata": {},
   "outputs": [],
   "source": []
  }
 ],
 "metadata": {
  "kernelspec": {
   "display_name": "RD HR project",
   "language": "python",
   "name": "venv_rd_hr"
  },
  "language_info": {
   "codemirror_mode": {
    "name": "ipython",
    "version": 3
   },
   "file_extension": ".py",
   "mimetype": "text/x-python",
   "name": "python",
   "nbconvert_exporter": "python",
   "pygments_lexer": "ipython3",
   "version": "3.9.6"
  }
 },
 "nbformat": 4,
 "nbformat_minor": 5
}
