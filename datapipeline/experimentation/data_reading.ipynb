{
 "cells": [
  {
   "cell_type": "markdown",
   "id": "cb753881-d7ca-4b8b-a5f4-23ca4e00f74e",
   "metadata": {},
   "source": [
    "# Test data reading"
   ]
  },
  {
   "cell_type": "code",
   "execution_count": null,
   "id": "7db0f11c-0a44-46f4-a8a5-576f17ba3645",
   "metadata": {},
   "outputs": [],
   "source": [
    "import boto3\n",
    "import re\n",
    "from io import BytesIO\n",
    "from pdfminer.pdfinterp import PDFResourceManager, PDFPageInterpreter\n",
    "from pdfminer.pdfpage import PDFPage\n",
    "from pdfminer.converter import TextConverter\n",
    "from pdfminer.layout import LAParams\n",
    "from docx import Document\n",
    "from pptx import Presentation"
   ]
  },
  {
   "cell_type": "code",
   "execution_count": null,
   "id": "e42c2550-64ad-45f6-a9c2-a4aaffd3c0f0",
   "metadata": {},
   "outputs": [],
   "source": [
    "bucket_name = 'alpha-app-hr-policy'\n",
    "fpath = 'gdd_capability/gdd_capability_pay/'"
   ]
  },
  {
   "cell_type": "code",
   "execution_count": null,
   "id": "b7d725fd-a7c3-42fc-bcc7-867796aff166",
   "metadata": {},
   "outputs": [],
   "source": [
    "\n",
    "def get_file_list(bucket_name, prefix='docs/'):\n",
    "    \"\"\"\n",
    "    Get a list of pdfs stored in a folder of an s3 bucket.\n",
    "\n",
    "    Arguments:\n",
    "     - bucket_name: this is the name of the s3 bucket where the pdfs\n",
    "                    are stored.\n",
    "     - prefix: this is the name of the folder within the s3 bucket where\n",
    "               the pdfs are stored.\n",
    "\n",
    "    Returns:\n",
    "    A list of file paths for where the PDFs are stored.\n",
    "\n",
    "    \"\"\"\n",
    "\n",
    "    my_bucket = boto3.resource('s3').Bucket(bucket_name)\n",
    "\n",
    "    file_list = [object_summary.key for object_summary in my_bucket.objects.filter(Prefix=prefix)]\n",
    "\n",
    "    return file_list"
   ]
  },
  {
   "cell_type": "code",
   "execution_count": null,
   "id": "04ef041b-db23-49dd-8001-433d33ca9546",
   "metadata": {},
   "outputs": [],
   "source": [
    "file_list = get_file_list(bucket_name, prefix=fpath)"
   ]
  },
  {
   "cell_type": "code",
   "execution_count": null,
   "id": "d8119939-12d9-48c2-b9bf-536707a79e81",
   "metadata": {},
   "outputs": [],
   "source": [
    "file_list"
   ]
  },
  {
   "cell_type": "code",
   "execution_count": null,
   "id": "6fbc3e84-9fdb-4dbc-9105-0f3d8d5e5d61",
   "metadata": {},
   "outputs": [],
   "source": [
    "pdf_list = [file for file in file_list if re.search('.pdf$', file)]\n",
    "pdf_list"
   ]
  },
  {
   "cell_type": "code",
   "execution_count": null,
   "id": "b17b592c-84a0-4cf1-81c5-47c46ef1d1b5",
   "metadata": {},
   "outputs": [],
   "source": [
    "docx_list = [file for file in file_list if re.search('.doc$|.docx$', file)]\n",
    "docx_list"
   ]
  },
  {
   "cell_type": "code",
   "execution_count": null,
   "id": "366b686b-6b70-46e1-b153-531298f25c86",
   "metadata": {},
   "outputs": [],
   "source": [
    "ppt_list = [file for file in file_list if re.search('.ppt$|.pptx$', file)]\n",
    "ppt_list"
   ]
  },
  {
   "cell_type": "markdown",
   "id": "d3f2889f-2d7c-45e5-8c8c-0e4d7760c551",
   "metadata": {},
   "source": [
    "## PDF reading"
   ]
  },
  {
   "cell_type": "code",
   "execution_count": null,
   "id": "81e04615-f3b0-4278-8abd-5fce441092c7",
   "metadata": {},
   "outputs": [],
   "source": [
    "obj = boto3.resource('s3').Object(bucket_name, pdf_list[0])\n",
    "fs = obj.get()['Body'].read()\n",
    "# Define some objects required by the pdf reader\n",
    "laparams = LAParams()\n",
    "rsrcmgr = PDFResourceManager()\n",
    "retstr = BytesIO()\n",
    "device = TextConverter(rsrcmgr, retstr, codec='utf-8', laparams=laparams)\n",
    "interpreter = PDFPageInterpreter(rsrcmgr, device)\n",
    "\n",
    "with BytesIO(fs) as f:\n",
    "\n",
    "    # Define generator from which pages can be read\n",
    "    page_gen = PDFPage.get_pages(f)\n",
    "    \n",
    "    # Extract the text\n",
    "    interpreter.process_page(list(page_gen)[1])\n",
    "    data = retstr.getvalue()\n",
    "    body = data.decode('utf-8')\n",
    "\n",
    "#             # Replace weird sets of characters that get introduced by the pdf reader\n",
    "#             # when it can't interpret a punctuation mark\n",
    "#             for match, repl in replace_dict.items():\n",
    "#                 body = body.replace(match, repl)\n",
    "\n",
    "    # Replace multiple spaces with single space\n",
    "    body = re.sub(r'\\s+', ' ', body.strip())\n",
    "\n",
    "retstr.close()\n",
    "device.close()"
   ]
  },
  {
   "cell_type": "code",
   "execution_count": null,
   "id": "abcd6989-4a79-4961-a2f9-79407c0e003c",
   "metadata": {
    "tags": []
   },
   "outputs": [],
   "source": [
    "print(body)"
   ]
  },
  {
   "cell_type": "markdown",
   "id": "c71c3b1c-f6f7-4ab1-8ecf-59b811a5dfa2",
   "metadata": {},
   "source": [
    "## Read Word doc"
   ]
  },
  {
   "cell_type": "code",
   "execution_count": null,
   "id": "7b97e5f7-48db-4f66-8b5d-a26d679a166b",
   "metadata": {},
   "outputs": [],
   "source": [
    "fname = docx_list[2]\n",
    "obj = boto3.resource('s3').Object(bucket_name, fname)\n",
    "fs = obj.get()['Body'].read()\n",
    "\n",
    "with BytesIO(fs) as f:\n",
    "    document = Document(f)\n",
    "\n",
    "print(fname)"
   ]
  },
  {
   "cell_type": "code",
   "execution_count": null,
   "id": "d016de4c-e16d-4808-9b93-d82e58b0dbe3",
   "metadata": {},
   "outputs": [],
   "source": [
    "all_paras = document.paragraphs\n",
    "for para in all_paras[:10]:\n",
    "    print(para.text)\n",
    "    print(para.style.name)"
   ]
  },
  {
   "cell_type": "markdown",
   "id": "3da333b9-2dd6-450e-8070-df8cadf62e77",
   "metadata": {},
   "source": [
    "#### Word doc with a table"
   ]
  },
  {
   "cell_type": "code",
   "execution_count": null,
   "id": "21d5f983-8b50-4896-89fe-c66d9f1327aa",
   "metadata": {},
   "outputs": [],
   "source": [
    "fname = 'gdd_capability/gdd_capability_pay/Learning and Development FAQs.docx'\n",
    "obj = boto3.resource('s3').Object(bucket_name, fname)\n",
    "fs = obj.get()['Body'].read()\n",
    "\n",
    "with BytesIO(fs) as f:\n",
    "    document = Document(f)\n",
    "\n",
    "print(fname)"
   ]
  },
  {
   "cell_type": "code",
   "execution_count": null,
   "id": "a27fb31f-44ef-4285-ab9f-be378ed1b93f",
   "metadata": {},
   "outputs": [],
   "source": [
    "all_paras = document.paragraphs\n",
    "for para in all_paras[:10]:\n",
    "    print(para.text)\n",
    "    print(para.style.name)"
   ]
  },
  {
   "cell_type": "code",
   "execution_count": null,
   "id": "4cbcc29e-172a-4d86-89ac-c5cac26eb5d6",
   "metadata": {},
   "outputs": [],
   "source": [
    "tables = document.tables"
   ]
  },
  {
   "cell_type": "code",
   "execution_count": null,
   "id": "1006cccf-ace6-4bdd-bec5-2475cf817620",
   "metadata": {},
   "outputs": [],
   "source": [
    "for i, row in enumerate(tables[0].rows):\n",
    "    text = ' - '.join([cell.text for cell in row.cells if cell.text != ''])\n",
    "    if text != '':\n",
    "        print(text)"
   ]
  },
  {
   "cell_type": "markdown",
   "id": "ca659d71-dcb5-4415-852f-d1eaee6f8634",
   "metadata": {},
   "source": [
    "## Read powerpoint"
   ]
  },
  {
   "cell_type": "code",
   "execution_count": null,
   "id": "5dac1d73-5f66-487e-890c-442784a9816e",
   "metadata": {},
   "outputs": [],
   "source": [
    "# fname = ppt_list[0]\n",
    "fname = 'gdd_capability/gdd_capability_pay/pay-and-allowances-manual.pptx'"
   ]
  },
  {
   "cell_type": "code",
   "execution_count": null,
   "id": "d4decbe0-024c-44a4-841b-6f5191c2fd1c",
   "metadata": {},
   "outputs": [],
   "source": [
    "obj = boto3.resource('s3').Object(bucket_name, fname)\n",
    "fs = obj.get()['Body'].read()\n",
    "\n",
    "with BytesIO(fs) as f:\n",
    "    ppt = Presentation(f)\n",
    "\n",
    "# text_runs will be populated with a list of strings,\n",
    "# one for each text run in presentation\n",
    "text_runs = []\n",
    "\n",
    "for ii, slide in enumerate(ppt.slides):\n",
    "    # Skip the first slide, since it's just a title slide\n",
    "    if ii == 0: continue\n",
    "    slide_text = []\n",
    "    for shape in slide.shapes:\n",
    "        if shape.has_text_frame:\n",
    "            for para in shape.text_frame.paragraphs:\n",
    "                para_text = ' '.join([run.text for run in para.runs])\n",
    "                para_text = re.sub(r'\\s+', ' ', para_text).strip()\n",
    "                slide_text.append(para_text)\n",
    "    \n",
    "        # Iterate over any tables\n",
    "        if shape.has_table:\n",
    "            for row in shape.table.rows:\n",
    "                table_text = ' - '.join([cell.text for cell in row.cells if cell.text != ''])\n",
    "                if table_text != '':\n",
    "                    slide_text.append(table_text)\n",
    "    \n",
    "    slide_text = '\\n'.join(slide_text)\n",
    "    if slide_text == '':\n",
    "        # Skip slides with no text\n",
    "        continue\n",
    "    elif re.search('^contents|\\ncontents$', slide_text.lower()):\n",
    "        # Skip contents page slides\n",
    "        continue\n",
    "    elif len(slide_text.split(' ')) <= 8:\n",
    "        # Skip what is likely to be a title slide\n",
    "        continue\n",
    "    else:\n",
    "        print(\"----------------------\")\n",
    "        print(f\"Slide number: {ii+1}\")\n",
    "        print(slide_text)"
   ]
  },
  {
   "cell_type": "code",
   "execution_count": null,
   "id": "640fa85a-86f8-44fa-aadc-e2bdafde3463",
   "metadata": {},
   "outputs": [],
   "source": [
    "text_runs"
   ]
  },
  {
   "cell_type": "code",
   "execution_count": null,
   "id": "de5a831a-28ea-45ee-be16-e404a53a0dbf",
   "metadata": {},
   "outputs": [],
   "source": []
  }
 ],
 "metadata": {
  "kernelspec": {
   "display_name": "RD HR project",
   "language": "python",
   "name": "venv_rd_hr"
  },
  "language_info": {
   "codemirror_mode": {
    "name": "ipython",
    "version": 3
   },
   "file_extension": ".py",
   "mimetype": "text/x-python",
   "name": "python",
   "nbconvert_exporter": "python",
   "pygments_lexer": "ipython3",
   "version": "3.9.6"
  }
 },
 "nbformat": 4,
 "nbformat_minor": 5
}
