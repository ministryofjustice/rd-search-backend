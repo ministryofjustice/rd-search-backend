{
 "cells": [
  {
   "cell_type": "markdown",
   "id": "dab5db6515d8e752",
   "metadata": {},
   "source": [
    "# Test search functions\n",
    "\n",
    "The notebook demos basic search functionality using OpenSearch and the Haystack framework. You must have Docker Desktop installed and be a part of the [MoJ Docker org](https://user-guide.operations-engineering.service.justice.gov.uk/documentation/services/dockerhub.html#docker) (so that you're covered by a licence) prior to using OpenSearch.\n",
    "\n",
    "To install necessary packages, run `pip install -e '.[search_backend, dev]'`.\n",
    "\n",
    "Before running this notebook, set up an Opensearch container (see docker-compose.yml) by running:\n",
    "```\n",
    "docker compose up localstack\n",
    "```\n",
    "Or alternatively follow instructions here: https://docs.haystack.deepset.ai/v2.0/docs/opensearchbm25retriever\n",
    "\n",
    "Hybrid search was introduced in OpenSearch v2.11. Not clear whether Haystack is able to properly use a version this recent. Proper hybrid search with OpenSearch hasn't been enabled yet in Haystack.\n",
    "\n",
    "You will also need the JSON file dummy-products-20241015.json. This is [kept on the wiki](https://dsdmoj.atlassian.net/wiki/spaces/AN/pages/5214503074/Dummy+data) for privacy purposes. Copy it into the same directory as this notebook."
   ]
  },
  {
   "cell_type": "code",
   "execution_count": null,
   "id": "482ee23fdc18f414",
   "metadata": {},
   "outputs": [],
   "source": [
    "import json\n",
    "\n",
    "from haystack import Document\n",
    "from search_backend.api.lib.config import get_config\n",
    "from search_backend.api.lib.indexing_pipeline import IndexingPipeline\n",
    "from search_backend.api.lib.retrieval_pipeline import RetrievalPipeline\n",
    "from search_backend.api.lib.search import Search\n",
    "from prep_data import replace_newlines, prep_project_data\n",
    "\n",
    "cfg = get_config()"
   ]
  },
  {
   "cell_type": "markdown",
   "id": "bf80128b9d733637",
   "metadata": {},
   "source": [
    "## Read data"
   ]
  },
  {
   "cell_type": "code",
   "execution_count": null,
   "id": "8a0c2a4fe184d678",
   "metadata": {},
   "outputs": [],
   "source": [
    "with open('dummy-products-20241015.json') as f:\n",
    "    project_list = json.load(f)\n",
    "\n",
    "print(project_list)"
   ]
  },
  {
   "cell_type": "code",
   "execution_count": null,
   "id": "d65586516c7a8f57",
   "metadata": {},
   "outputs": [],
   "source": [
    "# Replace newlines as they interfere with the matching\n",
    "project_list = replace_newlines(project_list)"
   ]
  },
  {
   "cell_type": "code",
   "execution_count": null,
   "id": "c66597ee7dcd13dc",
   "metadata": {},
   "outputs": [],
   "source": [
    "project_list[0]"
   ]
  },
  {
   "cell_type": "code",
   "execution_count": null,
   "id": "de1d01ba464ab1cc",
   "metadata": {},
   "outputs": [],
   "source": [
    "dataset = prep_project_data(project_list)"
   ]
  },
  {
   "cell_type": "code",
   "execution_count": null,
   "id": "933a0261fe346d3f",
   "metadata": {},
   "outputs": [],
   "source": [
    "print(len(dataset))\n",
    "dataset"
   ]
  },
  {
   "cell_type": "markdown",
   "id": "12f3a59bf1eb11d6",
   "metadata": {},
   "source": [
    "## Set up Opensearch"
   ]
  },
  {
   "cell_type": "code",
   "execution_count": null,
   "id": "41b852f348b64d0d",
   "metadata": {},
   "outputs": [],
   "source": [
    "# Connect to an existing Opensearch document store\n",
    "from haystack_integrations.document_stores.opensearch import OpenSearchDocumentStore\n",
    "\n",
    "query_document_store = OpenSearchDocumentStore(\n",
    "    hosts=\"http://0.0.0.0:4566/opensearch/eu-west-2/rd-demo\",\n",
    "    use_ssl=False,\n",
    "    verify_certs=False,\n",
    "    http_auth=(\"localstack\", \"localstack\"),\n",
    "    embedding_dim=cfg[\"embedding_dim\"],\n",
    "    recreate_index=True,\n",
    "    index=\"document\",\n",
    ")"
   ]
  },
  {
   "cell_type": "code",
   "execution_count": null,
   "id": "1627fe0682f6a803",
   "metadata": {},
   "outputs": [],
   "source": [
    "docs = [Document(**content) for content in dataset]\n",
    "\n",
    "indexer = IndexingPipeline(query_document_store, dense_embedding_model=cfg[\"dense_embedding_model\"], semantic=True)\n",
    "indexer.run(docs)"
   ]
  },
  {
   "cell_type": "markdown",
   "id": "cd9d7e6b36113129",
   "metadata": {},
   "source": [
    "## Run BM25 search"
   ]
  },
  {
   "cell_type": "code",
   "execution_count": null,
   "id": "28960f28d2f72672",
   "metadata": {},
   "outputs": [],
   "source": [
    "bm25_pipeline = RetrievalPipeline(query_document_store)\n",
    "bm25_pipeline = bm25_pipeline.setup_bm25_pipeline()"
   ]
  },
  {
   "cell_type": "code",
   "execution_count": null,
   "id": "4f31c069",
   "metadata": {},
   "outputs": [],
   "source": [
    "test_query = \"improved service quality\"\n",
    "bm25_search_init = Search(bm25_pipeline)\n",
    "results = bm25_search_init.bm25_search(test_query, top_k=3)\n",
    "\n",
    "for doc in results[\"bm25_retriever\"]['documents']:\n",
    "    print('-----------------------------------')\n",
    "    print(f'{doc.meta[\"name\"]} - Score: {doc.score}')\n",
    "    print(doc.content)\n",
    "    print(\"\\n\")"
   ]
  },
  {
   "cell_type": "code",
   "execution_count": null,
   "id": "6c8dce60",
   "metadata": {},
   "outputs": [],
   "source": [
    "results[\"bm25_retriever\"]['documents'][0].meta"
   ]
  },
  {
   "cell_type": "markdown",
   "id": "cbea7c41",
   "metadata": {},
   "source": [
    "## Run semantic search"
   ]
  },
  {
   "cell_type": "code",
   "execution_count": null,
   "id": "f96c2b89",
   "metadata": {},
   "outputs": [],
   "source": [
    "semantic_pipeline = RetrievalPipeline(query_document_store, dense_embedding_model=cfg['dense_embedding_model'], rerank_model=cfg['rerank_model'])\n",
    "semantic_pipeline = semantic_pipeline.setup_semantic_pipeline()"
   ]
  },
  {
   "cell_type": "code",
   "execution_count": null,
   "id": "db56eb20",
   "metadata": {},
   "outputs": [],
   "source": [
    "test_query = \"project relating to law\"\n",
    "semantic_search_init = Search(semantic_pipeline)\n",
    "results = semantic_search_init.semantic_search(test_query, top_k=3)\n",
    "\n",
    "for doc in results[\"ranker\"]['documents']:\n",
    "    print('-----------------------------------')\n",
    "    print(f'{doc.meta[\"name\"]} - Score: {doc.score}')\n",
    "    print(doc.content)\n",
    "    print(\"\\n\")"
   ]
  },
  {
   "cell_type": "markdown",
   "id": "363cf794",
   "metadata": {},
   "source": [
    "## Hybrid search"
   ]
  },
  {
   "cell_type": "code",
   "execution_count": null,
   "id": "6563a7b7",
   "metadata": {},
   "outputs": [],
   "source": [
    "hybrid_pipeline = RetrievalPipeline(query_document_store, dense_embedding_model=cfg['dense_embedding_model'], rerank_model=cfg['rerank_model'])\n",
    "hybrid_pipeline = hybrid_pipeline.setup_hybrid_pipeline()"
   ]
  },
  {
   "cell_type": "code",
   "execution_count": null,
   "id": "ae943dd5",
   "metadata": {},
   "outputs": [],
   "source": [
    "test_query = \"improved service quality\"\n",
    "hybrid_search_init = Search(hybrid_pipeline)\n",
    "results = hybrid_search_init.hybrid_search(test_query, top_k=3)\n",
    "\n",
    "for doc in results[\"ranker\"]['documents']:\n",
    "    print('-----------------------------------')\n",
    "    print(f'{doc.meta[\"name\"]} - Score: {doc.score}')\n",
    "    print(doc.content)\n",
    "    print(\"\\n\")"
   ]
  },
  {
   "cell_type": "code",
   "execution_count": null,
   "id": "b4dc588b-2af2-4818-9263-cc48c216c31e",
   "metadata": {},
   "outputs": [],
   "source": []
  }
 ],
 "metadata": {
  "kernelspec": {
   "display_name": "Python 3 (ipykernel)",
   "language": "python",
   "name": "python3"
  },
  "language_info": {
   "codemirror_mode": {
    "name": "ipython",
    "version": 3
   },
   "file_extension": ".py",
   "mimetype": "text/x-python",
   "name": "python",
   "nbconvert_exporter": "python",
   "pygments_lexer": "ipython3",
   "version": "3.9.20"
  }
 },
 "nbformat": 4,
 "nbformat_minor": 5
}
