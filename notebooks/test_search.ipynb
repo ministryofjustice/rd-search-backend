{
 "cells": [
  {
   "cell_type": "markdown",
   "id": "5b27fb4c96a5f195",
   "metadata": {},
   "source": [
    "# Test search functions\n",
    "\n",
    "The notebook demos basic search functionality using OpenSearch and the Haystack framework. You must have Docker Desktop installed and be a part of the [MoJ Docker org](https://user-guide.operations-engineering.service.justice.gov.uk/documentation/services/dockerhub.html#docker) (so that you're covered by a licence) prior to using OpenSearch.\n",
    "\n",
    "To install necessary packages, run `pip install -e '.[search_backend, dev]'`.\n",
    "\n",
    "Before running this notebook, set up an Opensearch container (see docker-compose.yml) by running:\n",
    "```\n",
    "docker compose up localstack\n",
    "```\n",
    "Or alternatively follow instructions here: https://docs.haystack.deepset.ai/v2.0/docs/opensearchbm25retriever\n",
    "\n",
    "Hybrid search was introduced in OpenSearch v2.11. Not clear whether Haystack is able to properly use a version this recent. Proper hybrid search with OpenSearch hasn't been enabled yet in Haystack."
   ]
  },
  {
   "cell_type": "code",
   "execution_count": null,
   "id": "caf8dcb5e192b034",
   "metadata": {
    "jupyter": {
     "is_executing": true
    }
   },
   "outputs": [],
   "source": [
    "import json\n",
    "\n",
    "from search_backend.api.lib.config import get_config\n",
    "from search_backend.api.lib.indexing_functions import run_indexing_pipeline\n",
    "from search_backend.api.lib.retrievalservice import RetrievalPipeline\n",
    "from search_backend.api.lib.searchservice import Search\n",
    "from prep_data import replace_newlines, prep_project_data\n",
    "\n",
    "cfg = get_config()"
   ]
  },
  {
   "cell_type": "markdown",
   "id": "7c54e4ea0af1dae5",
   "metadata": {},
   "source": []
  },
  {
   "cell_type": "markdown",
   "id": "eb5de3378dad0a3b",
   "metadata": {},
   "source": [
    "## Read data"
   ]
  },
  {
   "cell_type": "code",
   "execution_count": null,
   "id": "52f2dc277da6bf05",
   "metadata": {},
   "outputs": [],
   "source": [
    "with open('ai_catalogue.json') as f:\n",
    "    project_list = json.load(f)\n",
    "\n",
    "print(project_list)"
   ]
  },
  {
   "cell_type": "code",
   "execution_count": 3,
   "id": "f054d7f5",
   "metadata": {},
   "outputs": [],
   "source": [
    "# Replace newlines as they interfere with the matching\n",
    "project_list = replace_newlines(project_list)"
   ]
  },
  {
   "cell_type": "code",
   "execution_count": null,
   "id": "5e22bfe0",
   "metadata": {},
   "outputs": [],
   "source": [
    "project_list[0]"
   ]
  },
  {
   "cell_type": "code",
   "execution_count": 6,
   "id": "a903ee98",
   "metadata": {},
   "outputs": [],
   "source": [
    "dataset = prep_project_data(project_list)"
   ]
  },
  {
   "cell_type": "code",
   "execution_count": null,
   "id": "928098f4",
   "metadata": {},
   "outputs": [],
   "source": [
    "print(len(dataset))\n",
    "dataset"
   ]
  },
  {
   "cell_type": "markdown",
   "id": "37631d01d46a31d8",
   "metadata": {
    "ExecuteTime": {
     "end_time": "2024-10-01T10:43:45.255542Z",
     "start_time": "2024-10-01T10:43:45.177978Z"
    }
   },
   "source": [
    "## Set up Opensearch"
   ]
  },
  {
   "cell_type": "code",
   "execution_count": 9,
   "id": "f125e77bc8ff4f66",
   "metadata": {},
   "outputs": [],
   "source": [
    "# Connect to an existing Opensearch document store\n",
    "# query_document_store = SERVICES[\"querydocumentstore\"]\n",
    "from haystack_integrations.document_stores.opensearch import OpenSearchDocumentStore\n",
    "\n",
    "\n",
    "query_document_store = OpenSearchDocumentStore(\n",
    "    hosts=\"http://0.0.0.0:4566/opensearch/eu-west-2/rd-demo\",\n",
    "    use_ssl=False,\n",
    "    verify_certs=False,\n",
    "    http_auth=(\"localstack\", \"localstack\"),\n",
    "    embedding_dim=cfg[\"embedding_dim\"],\n",
    "    recreate_index=True,\n",
    "    index=\"document\",\n",
    ")"
   ]
  },
  {
   "cell_type": "code",
   "execution_count": null,
   "id": "aae545f4",
   "metadata": {},
   "outputs": [],
   "source": [
    "run_indexing_pipeline(dataset, query_document_store, cfg, semantic=True)"
   ]
  },
  {
   "cell_type": "markdown",
   "id": "cd9d7e6b36113129",
   "metadata": {},
   "source": [
    "## Run BM25 search"
   ]
  },
  {
   "cell_type": "code",
   "execution_count": 11,
   "id": "28960f28d2f72672",
   "metadata": {},
   "outputs": [],
   "source": [
    "bm25_pipeline = RetrievalPipeline(query_document_store)\n",
    "bm25_pipeline = bm25_pipeline.setup_bm25_pipeline()"
   ]
  },
  {
   "cell_type": "code",
   "execution_count": null,
   "id": "4f31c069",
   "metadata": {},
   "outputs": [],
   "source": [
    "test_query = \"improved service quality\"\n",
    "results = Search(test_query, bm25_pipeline, top_k=3).bm25_search()\n",
    "\n",
    "\n",
    "for doc in results[\"bm25_retriever\"]['documents']:\n",
    "    print('-----------------------------------')\n",
    "    print(f'{doc.meta[\"project_name\"]} - Score: {doc.score}')\n",
    "    print(doc.content)\n",
    "    print(\"\\n\")"
   ]
  },
  {
   "cell_type": "code",
   "execution_count": null,
   "id": "6c8dce60",
   "metadata": {},
   "outputs": [],
   "source": [
    "results[\"bm25_retriever\"]['documents'][0].meta"
   ]
  },
  {
   "cell_type": "markdown",
   "id": "cbea7c41",
   "metadata": {},
   "source": [
    "## Run semantic search"
   ]
  },
  {
   "cell_type": "code",
   "execution_count": 13,
   "id": "f96c2b89",
   "metadata": {},
   "outputs": [],
   "source": [
    "semantic_pipeline = RetrievalPipeline(query_document_store, dense_embedding_model=cfg['dense_embedding_model'], rerank_model=cfg['rerank_model'])\n",
    "semantic_pipeline = semantic_pipeline.setup_semantic_pipeline()"
   ]
  },
  {
   "cell_type": "code",
   "execution_count": null,
   "id": "db56eb20",
   "metadata": {},
   "outputs": [],
   "source": [
    "test_query = \"project relating to law\"\n",
    "results = Search(test_query, semantic_pipeline, top_k=3).semantic_search()\n",
    "\n",
    "\n",
    "for doc in results[\"ranker\"]['documents']:\n",
    "    print('-----------------------------------')\n",
    "    print(f'{doc.meta[\"project_name\"]} - Score: {doc.score}')\n",
    "    print(doc.content)\n",
    "    print(\"\\n\")"
   ]
  },
  {
   "cell_type": "markdown",
   "id": "363cf794",
   "metadata": {},
   "source": [
    "## Hybrid search"
   ]
  },
  {
   "cell_type": "code",
   "execution_count": 16,
   "id": "6563a7b7",
   "metadata": {},
   "outputs": [],
   "source": [
    "hybrid_pipeline = RetrievalPipeline(query_document_store, dense_embedding_model=cfg['dense_embedding_model'], rerank_model=cfg['rerank_model'])\n",
    "hybrid_pipeline = hybrid_pipeline.setup_hybrid_pipeline()"
   ]
  },
  {
   "cell_type": "code",
   "execution_count": null,
   "id": "ae943dd5",
   "metadata": {},
   "outputs": [],
   "source": [
    "test_query = \"improved service quality\"\n",
    "results = Search(test_query, hybrid_pipeline, top_k=3).hybrid_search()\n",
    "\n",
    "\n",
    "for doc in results[\"ranker\"]['documents']:\n",
    "    print('-----------------------------------')\n",
    "    print(f'{doc.meta[\"project_name\"]} - Score: {doc.score}')\n",
    "    print(doc.content)\n",
    "    print(\"\\n\")"
   ]
  }
 ],
 "metadata": {
  "kernelspec": {
   "display_name": "Search backend",
   "language": "python",
   "name": "venv_search"
  },
  "language_info": {
   "codemirror_mode": {
    "name": "ipython",
    "version": 3
   },
   "file_extension": ".py",
   "mimetype": "text/x-python",
   "name": "python",
   "nbconvert_exporter": "python",
   "pygments_lexer": "ipython3",
   "version": "3.12.5"
  }
 },
 "nbformat": 4,
 "nbformat_minor": 5
}
