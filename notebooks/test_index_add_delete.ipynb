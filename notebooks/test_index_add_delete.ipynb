{
 "cells": [
  {
   "cell_type": "markdown",
   "id": "0",
   "metadata": {},
   "source": [
    "# Test indexing functions\n",
    "\n",
    "The notebook demos setting up and editing an OpenSearch index using the Haystack framework. You must have Docker Desktop installed prior to using OpenSearch.\n",
    "\n",
    "To install necessary packages, run `pip install -e '.[search_backend]'`.\n",
    "\n",
    "Before running this notebook, set up an Opensearch container (see docker-compose.yml) by running:\n",
    "```\n",
    "docker compose up localstack\n",
    "```\n",
    "Or alternatively follow instructions here: https://docs.haystack.deepset.ai/v2.0/docs/opensearchbm25retriever\n",
    "\n",
    "You will also need the JSON file dummy-products-20241015.json. This is [kept on the wiki](https://dsdmoj.atlassian.net/wiki/spaces/AN/pages/5214503074/Dummy+data) for privacy purposes. Copy it into the same directory as this notebook."
   ]
  },
  {
   "cell_type": "code",
   "execution_count": null,
   "id": "1",
   "metadata": {},
   "outputs": [],
   "source": [
    "import json\n",
    "\n",
    "from haystack import Document\n",
    "\n",
    "from search_backend.indexing_pipeline import IndexingPipeline\n",
    "from prep_data import format_doc_dict"
   ]
  },
  {
   "cell_type": "markdown",
   "id": "2",
   "metadata": {},
   "source": [
    "## Read data"
   ]
  },
  {
   "cell_type": "code",
   "execution_count": null,
   "id": "3",
   "metadata": {},
   "outputs": [],
   "source": [
    "with open('dummy-products-20241015.json') as f:\n",
    "    doc_list = json.load(f)\n",
    "\n",
    "print(doc_list)"
   ]
  },
  {
   "cell_type": "code",
   "execution_count": null,
   "id": "4",
   "metadata": {},
   "outputs": [],
   "source": [
    "doc0 = [doc_list[0]]\n",
    "doc1 = [doc_list[1]]\n",
    "doc2 = [doc_list[2]]"
   ]
  },
  {
   "cell_type": "code",
   "execution_count": null,
   "id": "5",
   "metadata": {},
   "outputs": [],
   "source": [
    "doc0"
   ]
  },
  {
   "cell_type": "code",
   "execution_count": null,
   "id": "6",
   "metadata": {},
   "outputs": [],
   "source": [
    "dataset_part0 = [\n",
    "    y for doc in doc0\n",
    "    if (y := format_doc_dict(doc, \"description\")) is not None\n",
    "]"
   ]
  },
  {
   "cell_type": "code",
   "execution_count": null,
   "id": "7",
   "metadata": {},
   "outputs": [],
   "source": [
    "print(len(dataset_part0))\n",
    "dataset_part0"
   ]
  },
  {
   "cell_type": "markdown",
   "id": "8",
   "metadata": {},
   "source": [
    "## Connect to OpenSearch container"
   ]
  },
  {
   "cell_type": "code",
   "execution_count": null,
   "id": "9",
   "metadata": {},
   "outputs": [],
   "source": [
    "# Connect to an existing Opensearch document store\n",
    "from haystack_integrations.document_stores.opensearch import OpenSearchDocumentStore\n",
    "\n",
    "query_document_store = OpenSearchDocumentStore(\n",
    "    hosts=\"http://0.0.0.0:4566/opensearch/eu-west-2/rd-demo\",\n",
    "    use_ssl=False,\n",
    "    verify_certs=False,\n",
    "    http_auth=(\"localstack\", \"localstack\"),\n",
    "    create_index=True,\n",
    "    index=\"document\",\n",
    ")"
   ]
  },
  {
   "cell_type": "markdown",
   "id": "10",
   "metadata": {},
   "source": [
    "## Initialise docstore and write first document"
   ]
  },
  {
   "cell_type": "code",
   "execution_count": null,
   "id": "11",
   "metadata": {},
   "outputs": [],
   "source": [
    "docs = [Document(**content) for content in dataset_part0]\n",
    "\n",
    "\n",
    "indexer = IndexingPipeline(query_document_store, dense_embedding_model=\"snowflake/snowflake-arctic-embed-xs\")\n",
    "indexer.index_docs(docs)"
   ]
  },
  {
   "cell_type": "markdown",
   "id": "12",
   "metadata": {},
   "source": [
    "### Check what's in the docstore\n",
    "\n",
    "Count how many docs are currently in the docstore:"
   ]
  },
  {
   "cell_type": "code",
   "execution_count": null,
   "id": "13",
   "metadata": {},
   "outputs": [],
   "source": [
    "query_document_store.count_documents()"
   ]
  },
  {
   "cell_type": "markdown",
   "id": "14",
   "metadata": {},
   "source": [
    "Check the contents of the docstore:"
   ]
  },
  {
   "cell_type": "code",
   "execution_count": null,
   "id": "15",
   "metadata": {},
   "outputs": [],
   "source": [
    "query_document_store.filter_documents()"
   ]
  },
  {
   "cell_type": "markdown",
   "id": "16",
   "metadata": {},
   "source": [
    "## Try adding another document"
   ]
  },
  {
   "cell_type": "code",
   "execution_count": null,
   "id": "17",
   "metadata": {},
   "outputs": [],
   "source": [
    "dataset_part1 = [\n",
    "    y for doc in doc1\n",
    "    if (y := format_doc_dict(doc, \"description\")) is not None\n",
    "]"
   ]
  },
  {
   "cell_type": "code",
   "execution_count": null,
   "id": "18",
   "metadata": {},
   "outputs": [],
   "source": [
    "docs = [Document(**content) for content in dataset_part1]\n",
    "indexer.index_docs(docs)"
   ]
  },
  {
   "cell_type": "code",
   "execution_count": null,
   "id": "19",
   "metadata": {},
   "outputs": [],
   "source": [
    "query_document_store.count_documents()"
   ]
  },
  {
   "cell_type": "code",
   "execution_count": null,
   "id": "20",
   "metadata": {},
   "outputs": [],
   "source": [
    "query_document_store.filter_documents()"
   ]
  },
  {
   "cell_type": "code",
   "execution_count": null,
   "id": "21",
   "metadata": {},
   "outputs": [],
   "source": [
    "dataset_part2 = [\n",
    "    y for doc in doc2\n",
    "    if (y := format_doc_dict(doc, \"description\")) is not None\n",
    "]\n"
   ]
  },
  {
   "cell_type": "code",
   "execution_count": null,
   "id": "22",
   "metadata": {},
   "outputs": [],
   "source": [
    "docs = [Document(**content) for content in dataset_part2]\n",
    "indexer.index_docs(docs)"
   ]
  },
  {
   "cell_type": "code",
   "execution_count": null,
   "id": "23",
   "metadata": {},
   "outputs": [],
   "source": [
    "query_document_store.count_documents()"
   ]
  },
  {
   "cell_type": "code",
   "execution_count": null,
   "id": "24",
   "metadata": {},
   "outputs": [],
   "source": [
    "query_document_store.filter_documents()"
   ]
  },
  {
   "cell_type": "markdown",
   "id": "25",
   "metadata": {},
   "source": [
    "## Check behaviour when trying to add a duplicate doc"
   ]
  },
  {
   "cell_type": "code",
   "execution_count": null,
   "id": "26",
   "metadata": {},
   "outputs": [],
   "source": [
    "indexer.index_docs(docs)"
   ]
  },
  {
   "cell_type": "code",
   "execution_count": null,
   "id": "27",
   "metadata": {},
   "outputs": [],
   "source": [
    "query_document_store.count_documents()"
   ]
  },
  {
   "cell_type": "markdown",
   "id": "28",
   "metadata": {},
   "source": [
    "## Try removing a document"
   ]
  },
  {
   "cell_type": "code",
   "execution_count": null,
   "id": "29",
   "metadata": {},
   "outputs": [],
   "source": [
    "filters = {\n",
    "    \"field\": \"meta.db_id\",\n",
    "    \"operator\": \"in\",\n",
    "    \"value\": [\"D28\"],\n",
    "}\n",
    "\n",
    "results = query_document_store.filter_documents(filters=filters)\n",
    "print(results[0])\n",
    "\n",
    "doc_ids = {result.id for result in results}\n",
    "print(doc_ids)\n",
    "\n",
    "print(query_document_store.count_documents())\n",
    "query_document_store.delete_documents(list(doc_ids))\n",
    "print(query_document_store.count_documents())"
   ]
  },
  {
   "cell_type": "code",
   "execution_count": null,
   "id": "30",
   "metadata": {},
   "outputs": [],
   "source": [
    "indexer.delete_docs(document_ids=[28], id_metafield=\"id\")"
   ]
  },
  {
   "cell_type": "code",
   "execution_count": null,
   "id": "31",
   "metadata": {},
   "outputs": [],
   "source": [
    "query_document_store.count_documents()"
   ]
  },
  {
   "cell_type": "code",
   "execution_count": null,
   "id": "32",
   "metadata": {},
   "outputs": [],
   "source": [
    "query_document_store.filter_documents()"
   ]
  }
 ],
 "metadata": {
  "language_info": {
   "codemirror_mode": {
    "name": "ipython",
    "version": 3
   },
   "file_extension": ".py",
   "mimetype": "text/x-python",
   "name": "python",
   "nbconvert_exporter": "python",
   "pygments_lexer": "ipython3",
   "version": "3.12.5"
  }
 },
 "nbformat": 4,
 "nbformat_minor": 5
}
