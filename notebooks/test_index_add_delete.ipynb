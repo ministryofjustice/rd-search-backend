{
 "cells": [
  {
   "cell_type": "markdown",
   "id": "e1d492d789b88896",
   "metadata": {},
   "source": [
    "# Test indexing functions\n",
    "\n",
    "The notebook demos setting up and editing an OpenSearch index using the Haystack framework. You must have Docker Desktop installed prior to using OpenSearch.\n",
    "\n",
    "To install necessary packages, run `pip install -e '.[search_backend]'`.\n",
    "\n",
    "Before running this notebook, set up an Opensearch container (see docker-compose.yml) by running:\n",
    "```\n",
    "docker compose up localstack\n",
    "```\n",
    "Or alternatively follow instructions here: https://docs.haystack.deepset.ai/v2.0/docs/opensearchbm25retriever\n",
    "\n",
    "You will also need the JSON file dummy-products-20241015.json. This is [kept on the wiki](https://dsdmoj.atlassian.net/wiki/spaces/AN/pages/5214503074/Dummy+data) for privacy purposes. Copy it into the same directory as this notebook."
   ]
  },
  {
   "cell_type": "code",
   "execution_count": null,
   "id": "13fffc0a32ed5cd4",
   "metadata": {},
   "outputs": [],
   "source": [
    "import json\n",
    "\n",
    "from haystack import Document\n",
    "\n",
    "from search_backend.api.lib.indexing_pipeline import IndexingPipeline\n",
    "from prep_data import format_doc_dict"
   ]
  },
  {
   "cell_type": "markdown",
   "id": "a6d0f071b8f5cc5c",
   "metadata": {},
   "source": [
    "## Read data"
   ]
  },
  {
   "cell_type": "code",
   "execution_count": null,
   "id": "ed8b57425b8b1da2",
   "metadata": {},
   "outputs": [],
   "source": [
    "with open('dummy-products-20241015.json') as f:\n",
    "    doc_list = json.load(f)\n",
    "\n",
    "print(doc_list)"
   ]
  },
  {
   "cell_type": "code",
   "execution_count": null,
   "id": "396698e65853cc1",
   "metadata": {},
   "outputs": [],
   "source": [
    "doc0 = [doc_list[0]]\n",
    "doc1 = [doc_list[1]]\n",
    "doc2 = [doc_list[2]]"
   ]
  },
  {
   "cell_type": "code",
   "execution_count": null,
   "id": "f2c1eb456aff7179",
   "metadata": {},
   "outputs": [],
   "source": [
    "doc0"
   ]
  },
  {
   "cell_type": "code",
   "execution_count": null,
   "id": "6734a7bf9416071e",
   "metadata": {},
   "outputs": [],
   "source": [
    "dataset_part0 = [\n",
    "    y for doc in doc0\n",
    "    if (y := format_doc_dict(doc, \"description\")) is not None\n",
    "]"
   ]
  },
  {
   "cell_type": "code",
   "execution_count": null,
   "id": "4c6b92bfb1d6dce7",
   "metadata": {},
   "outputs": [],
   "source": [
    "print(len(dataset_part0))\n",
    "dataset_part0"
   ]
  },
  {
   "cell_type": "markdown",
   "id": "f1409d0b09faae9a",
   "metadata": {},
   "source": [
    "## Connect to OpenSearch container"
   ]
  },
  {
   "cell_type": "code",
   "execution_count": null,
   "id": "f53ac7658ac7164a",
   "metadata": {},
   "outputs": [],
   "source": [
    "# Connect to an existing Opensearch document store\n",
    "from haystack_integrations.document_stores.opensearch import OpenSearchDocumentStore\n",
    "\n",
    "query_document_store = OpenSearchDocumentStore(\n",
    "    hosts=\"http://0.0.0.0:4566/opensearch/eu-west-2/rd-demo\",\n",
    "    use_ssl=False,\n",
    "    verify_certs=False,\n",
    "    http_auth=(\"localstack\", \"localstack\"),\n",
    "    create_index=True,\n",
    "    index=\"document\",\n",
    ")"
   ]
  },
  {
   "cell_type": "markdown",
   "id": "db24d77afe802861",
   "metadata": {},
   "source": [
    "## Initialise docstore and write first document"
   ]
  },
  {
   "cell_type": "code",
   "execution_count": null,
   "id": "38adc6552fdb940",
   "metadata": {},
   "outputs": [],
   "source": [
    "docs = [Document(**content) for content in dataset_part0]\n",
    "\n",
    "\n",
    "indexer = IndexingPipeline(query_document_store, dense_embedding_model=\"snowflake/snowflake-arctic-embed-xs\")\n",
    "indexer.index_docs(docs)"
   ]
  },
  {
   "cell_type": "markdown",
   "id": "2a42778b49fa8776",
   "metadata": {},
   "source": [
    "### Check what's in the docstore\n",
    "\n",
    "Count how many docs are currently in the docstore:"
   ]
  },
  {
   "cell_type": "code",
   "execution_count": null,
   "id": "dd8b9943651a33fa",
   "metadata": {},
   "outputs": [],
   "source": [
    "query_document_store.count_documents()"
   ]
  },
  {
   "cell_type": "markdown",
   "id": "b919b07ffeb05f27",
   "metadata": {},
   "source": [
    "Check the contents of the docstore:"
   ]
  },
  {
   "cell_type": "code",
   "execution_count": null,
   "id": "364a54a49b06038e",
   "metadata": {},
   "outputs": [],
   "source": [
    "query_document_store.filter_documents()"
   ]
  },
  {
   "cell_type": "markdown",
   "id": "bdd3fc4824b54059",
   "metadata": {},
   "source": [
    "## Try adding another document"
   ]
  },
  {
   "cell_type": "code",
   "execution_count": null,
   "id": "1374b5a14e694afe",
   "metadata": {},
   "outputs": [],
   "source": [
    "dataset_part1 = [\n",
    "    y for doc in doc1\n",
    "    if (y := format_doc_dict(doc, \"description\")) is not None\n",
    "]"
   ]
  },
  {
   "cell_type": "code",
   "execution_count": null,
   "id": "1637f23d3e3d0aa0",
   "metadata": {},
   "outputs": [],
   "source": [
    "docs = [Document(**content) for content in dataset_part1]\n",
    "indexer.index_docs(docs)"
   ]
  },
  {
   "cell_type": "code",
   "execution_count": null,
   "id": "85c8d7b5d1260cdb",
   "metadata": {},
   "outputs": [],
   "source": [
    "query_document_store.count_documents()"
   ]
  },
  {
   "cell_type": "code",
   "execution_count": null,
   "id": "fde50b10807255fb",
   "metadata": {},
   "outputs": [],
   "source": [
    "query_document_store.filter_documents()"
   ]
  },
  {
   "cell_type": "code",
   "execution_count": null,
   "id": "5c76c670e7db6c83",
   "metadata": {},
   "outputs": [],
   "source": [
    "dataset_part2 = [\n",
    "    y for doc in doc2\n",
    "    if (y := format_doc_dict(doc, \"description\")) is not None\n",
    "]\n"
   ]
  },
  {
   "cell_type": "code",
   "execution_count": null,
   "id": "7a45d46e96352433",
   "metadata": {},
   "outputs": [],
   "source": [
    "docs = [Document(**content) for content in dataset_part2]\n",
    "indexer.index_docs(docs)"
   ]
  },
  {
   "cell_type": "code",
   "execution_count": null,
   "id": "d42115e579df0a55",
   "metadata": {},
   "outputs": [],
   "source": [
    "query_document_store.count_documents()"
   ]
  },
  {
   "cell_type": "code",
   "execution_count": null,
   "id": "f60c3b44236f54a4",
   "metadata": {},
   "outputs": [],
   "source": [
    "query_document_store.filter_documents()"
   ]
  },
  {
   "cell_type": "markdown",
   "id": "3fa1fac7e8164637",
   "metadata": {},
   "source": [
    "## Check behaviour when trying to add a duplicate doc"
   ]
  },
  {
   "cell_type": "code",
   "execution_count": null,
   "id": "426e18ae9cf531aa",
   "metadata": {},
   "outputs": [],
   "source": "indexer.index_docs(docs)"
  },
  {
   "cell_type": "code",
   "execution_count": null,
   "id": "85cd4311e861b949",
   "metadata": {},
   "outputs": [],
   "source": [
    "query_document_store.count_documents()"
   ]
  },
  {
   "cell_type": "markdown",
   "id": "8504c0bf209507a9",
   "metadata": {},
   "source": [
    "## Try removing a document"
   ]
  },
  {
   "cell_type": "code",
   "execution_count": null,
   "id": "7e2e4fcc41899cab",
   "metadata": {},
   "outputs": [],
   "source": [
    "filters = {\n",
    "    \"field\": \"meta.db_id\",\n",
    "    \"operator\": \"in\",\n",
    "    \"value\": [\"D28\"],\n",
    "}\n",
    "\n",
    "results = query_document_store.filter_documents(filters=filters)\n",
    "print(results[0])\n",
    "\n",
    "doc_ids = {result.id for result in results}\n",
    "print(doc_ids)\n",
    "\n",
    "print(query_document_store.count_documents())\n",
    "query_document_store.delete_documents(list(doc_ids))\n",
    "print(query_document_store.count_documents())"
   ]
  },
  {
   "cell_type": "code",
   "execution_count": null,
   "id": "8a581402e243189a",
   "metadata": {},
   "outputs": [],
   "source": [
    "indexer.delete_docs(document_ids=[28], id_metafield=\"id\")"
   ]
  },
  {
   "cell_type": "code",
   "execution_count": null,
   "id": "a3ebc06f",
   "metadata": {},
   "outputs": [],
   "source": [
    "query_document_store.count_documents()"
   ]
  },
  {
   "cell_type": "code",
   "execution_count": null,
   "id": "79b5e931",
   "metadata": {},
   "outputs": [],
   "source": [
    "query_document_store.filter_documents()"
   ]
  }
 ],
 "metadata": {
  "kernelspec": {
   "display_name": "Python 3 (ipykernel)",
   "language": "python",
   "name": "python3"
  },
  "language_info": {
   "codemirror_mode": {
    "name": "ipython",
    "version": 3
   },
   "file_extension": ".py",
   "mimetype": "text/x-python",
   "name": "python",
   "nbconvert_exporter": "python",
   "pygments_lexer": "ipython3",
   "version": "3.9.20"
  }
 },
 "nbformat": 4,
 "nbformat_minor": 5
}
