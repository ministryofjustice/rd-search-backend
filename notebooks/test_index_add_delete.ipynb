{
 "cells": [
  {
   "cell_type": "markdown",
   "id": "5b27fb4c96a5f195",
   "metadata": {},
   "source": [
    "# Test indexing functions\n",
    "\n",
    "The notebook demos setting up and editing an OpenSearch index using the Haystack framework. You must have Docker Desktop installed prior to using OpenSearch.\n",
    "\n",
    "To install necessary packages, run `pip install -e '.[search_backend]'`.\n",
    "\n",
    "Before running this notebook, set up an Opensearch container (see docker-compose.yml) by running:\n",
    "```\n",
    "docker compose up localstack\n",
    "```\n",
    "Or alternatively follow instructions here: https://docs.haystack.deepset.ai/v2.0/docs/opensearchbm25retriever"
   ]
  },
  {
   "cell_type": "code",
   "execution_count": null,
   "id": "caf8dcb5e192b034",
   "metadata": {
    "jupyter": {
     "is_executing": true
    }
   },
   "outputs": [],
   "source": [
    "import json\n",
    "\n",
    "from search_backend.api.lib.indexing_functions import run_indexing_pipeline, delete_docs\n",
    "from prep_data import format_doc_dict"
   ]
  },
  {
   "cell_type": "markdown",
   "id": "eb5de3378dad0a3b",
   "metadata": {},
   "source": [
    "## Read data"
   ]
  },
  {
   "cell_type": "code",
   "execution_count": null,
   "id": "52f2dc277da6bf05",
   "metadata": {},
   "outputs": [],
   "source": [
    "with open('dummy_data.json') as f:\n",
    "    doc_list = json.load(f)\n",
    "\n",
    "print(doc_list)"
   ]
  },
  {
   "cell_type": "code",
   "execution_count": 6,
   "id": "5e22bfe0",
   "metadata": {},
   "outputs": [],
   "source": [
    "doc0 = [doc_list[0]]\n",
    "doc1 = [doc_list[1]]\n",
    "doc2 = [doc_list[2]]"
   ]
  },
  {
   "cell_type": "code",
   "execution_count": null,
   "id": "cb0e2978",
   "metadata": {},
   "outputs": [],
   "source": [
    "doc0"
   ]
  },
  {
   "cell_type": "code",
   "execution_count": 8,
   "id": "a903ee98",
   "metadata": {},
   "outputs": [],
   "source": [
    "dataset_part0 = [\n",
    "    y for doc in doc0\n",
    "    if (y := format_doc_dict(doc, \"description\")) is not None\n",
    "]"
   ]
  },
  {
   "cell_type": "code",
   "execution_count": null,
   "id": "928098f4",
   "metadata": {},
   "outputs": [],
   "source": [
    "print(len(dataset_part0))\n",
    "dataset_part0"
   ]
  },
  {
   "cell_type": "markdown",
   "id": "37631d01d46a31d8",
   "metadata": {
    "ExecuteTime": {
     "end_time": "2024-10-01T10:43:45.255542Z",
     "start_time": "2024-10-01T10:43:45.177978Z"
    }
   },
   "source": [
    "## Connect to OpenSearch container"
   ]
  },
  {
   "cell_type": "code",
   "execution_count": 2,
   "id": "f125e77bc8ff4f66",
   "metadata": {},
   "outputs": [],
   "source": [
    "# Connect to an existing Opensearch document store\n",
    "# query_document_store = SERVICES[\"querydocumentstore\"]\n",
    "from haystack_integrations.document_stores.opensearch import OpenSearchDocumentStore\n",
    "\n",
    "\n",
    "query_document_store = OpenSearchDocumentStore(\n",
    "    hosts=\"http://0.0.0.0:4566/opensearch/eu-west-2/rd-demo\",\n",
    "    use_ssl=False,\n",
    "    verify_certs=False,\n",
    "    http_auth=(\"localstack\", \"localstack\"),\n",
    "    create_index=True,\n",
    "    index=\"document\",\n",
    ")"
   ]
  },
  {
   "cell_type": "markdown",
   "id": "0b2b119a",
   "metadata": {},
   "source": [
    "## Initialise docstore and write first document"
   ]
  },
  {
   "cell_type": "code",
   "execution_count": null,
   "id": "aae545f4",
   "metadata": {},
   "outputs": [],
   "source": [
    "run_indexing_pipeline(dataset_part0, query_document_store)"
   ]
  },
  {
   "cell_type": "markdown",
   "id": "8cdbe181",
   "metadata": {},
   "source": [
    "### Check what's in the docstore\n",
    "\n",
    "Count how many docs are currently in the docstore:"
   ]
  },
  {
   "cell_type": "code",
   "execution_count": null,
   "id": "c081a92467522be7",
   "metadata": {},
   "outputs": [],
   "source": [
    "query_document_store.count_documents()"
   ]
  },
  {
   "cell_type": "markdown",
   "id": "481a65c4",
   "metadata": {},
   "source": [
    "Check the contents of the docstore:"
   ]
  },
  {
   "cell_type": "code",
   "execution_count": null,
   "id": "f570b35f77dcd16",
   "metadata": {},
   "outputs": [],
   "source": [
    "query_document_store.filter_documents()"
   ]
  },
  {
   "cell_type": "markdown",
   "id": "77060738",
   "metadata": {},
   "source": [
    "## Try adding another document"
   ]
  },
  {
   "cell_type": "code",
   "execution_count": 17,
   "id": "0ed87cfd",
   "metadata": {},
   "outputs": [],
   "source": [
    "dataset_part1 = [\n",
    "    y for doc in doc1\n",
    "    if (y := format_doc_dict(doc, \"description\")) is not None\n",
    "]"
   ]
  },
  {
   "cell_type": "code",
   "execution_count": null,
   "id": "f8e901da",
   "metadata": {},
   "outputs": [],
   "source": [
    "run_indexing_pipeline(dataset_part1, query_document_store)"
   ]
  },
  {
   "cell_type": "code",
   "execution_count": null,
   "id": "025ef738",
   "metadata": {},
   "outputs": [],
   "source": [
    "query_document_store.count_documents()"
   ]
  },
  {
   "cell_type": "code",
   "execution_count": null,
   "id": "ee1f9d78",
   "metadata": {},
   "outputs": [],
   "source": [
    "query_document_store.filter_documents()"
   ]
  },
  {
   "cell_type": "code",
   "execution_count": 25,
   "id": "9f6bce2b",
   "metadata": {},
   "outputs": [],
   "source": [
    "dataset_part2 = [\n",
    "    y for doc in doc2\n",
    "    if (y := format_doc_dict(doc, \"description\")) is not None\n",
    "]\n"
   ]
  },
  {
   "cell_type": "code",
   "execution_count": null,
   "id": "fcd88dfe",
   "metadata": {},
   "outputs": [],
   "source": [
    "run_indexing_pipeline(dataset_part2, query_document_store)"
   ]
  },
  {
   "cell_type": "code",
   "execution_count": null,
   "id": "513b78c9",
   "metadata": {},
   "outputs": [],
   "source": [
    "query_document_store.count_documents()"
   ]
  },
  {
   "cell_type": "code",
   "execution_count": null,
   "id": "1ce2cb6b",
   "metadata": {},
   "outputs": [],
   "source": [
    "query_document_store.filter_documents()"
   ]
  },
  {
   "cell_type": "markdown",
   "id": "394b0790",
   "metadata": {},
   "source": [
    "## Check behaviour when trying to add a duplicate doc"
   ]
  },
  {
   "cell_type": "code",
   "execution_count": null,
   "id": "1bfc9479",
   "metadata": {},
   "outputs": [],
   "source": [
    "run_indexing_pipeline(dataset_part2, query_document_store)"
   ]
  },
  {
   "cell_type": "code",
   "execution_count": null,
   "id": "675b0486",
   "metadata": {},
   "outputs": [],
   "source": [
    "query_document_store.count_documents()"
   ]
  },
  {
   "cell_type": "markdown",
   "id": "248c0f70",
   "metadata": {},
   "source": [
    "## Try removing a document"
   ]
  },
  {
   "cell_type": "code",
   "execution_count": 3,
   "id": "12e43eb2",
   "metadata": {},
   "outputs": [],
   "source": [
    "delete_docs(document_store=query_document_store, document_ids=[\"0001\"], id_metafield=\"reference_id\")"
   ]
  },
  {
   "cell_type": "code",
   "execution_count": null,
   "id": "a3ebc06f",
   "metadata": {},
   "outputs": [],
   "source": [
    "query_document_store.count_documents()"
   ]
  },
  {
   "cell_type": "code",
   "execution_count": null,
   "id": "79b5e931",
   "metadata": {},
   "outputs": [],
   "source": [
    "query_document_store.filter_documents()"
   ]
  }
 ],
 "metadata": {
  "kernelspec": {
   "display_name": "Search backend",
   "language": "python",
   "name": "venv_search"
  },
  "language_info": {
   "codemirror_mode": {
    "name": "ipython",
    "version": 3
   },
   "file_extension": ".py",
   "mimetype": "text/x-python",
   "name": "python",
   "nbconvert_exporter": "python",
   "pygments_lexer": "ipython3",
   "version": "3.12.5"
  }
 },
 "nbformat": 4,
 "nbformat_minor": 5
}
